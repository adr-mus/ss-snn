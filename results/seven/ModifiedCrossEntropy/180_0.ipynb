{
  "nbformat": 4,
  "nbformat_minor": 0,
  "metadata": {
    "kernelspec": {
      "display_name": "Python 3",
      "language": "python",
      "name": "python3"
    },
    "language_info": {
      "codemirror_mode": {
        "name": "ipython",
        "version": 3
      },
      "file_extension": ".py",
      "mimetype": "text/x-python",
      "name": "python",
      "nbconvert_exporter": "python",
      "pygments_lexer": "ipython3",
      "version": "3.7.9"
    },
    "colab": {
      "name": "180_0.ipynb",
      "provenance": [],
      "collapsed_sections": [
        "526Lji-ozmvB",
        "u5fF8uz1zmvK",
        "XHWrx5DrzmvL"
      ]
    },
    "accelerator": "GPU",
    "widgets": {
      "application/vnd.jupyter.widget-state+json": {
        "3ada37363f3044ed9278fddd4d2d4b59": {
          "model_module": "@jupyter-widgets/controls",
          "model_name": "HBoxModel",
          "state": {
            "_view_name": "HBoxView",
            "_dom_classes": [],
            "_model_name": "HBoxModel",
            "_view_module": "@jupyter-widgets/controls",
            "_model_module_version": "1.5.0",
            "_view_count": null,
            "_view_module_version": "1.5.0",
            "box_style": "",
            "layout": "IPY_MODEL_c3d65dcd29464f98a271f7376c37f959",
            "_model_module": "@jupyter-widgets/controls",
            "children": [
              "IPY_MODEL_17c917d817e44656873aff9d9a573bc2",
              "IPY_MODEL_a85a758282e040e9ac0be78d03252d38"
            ]
          }
        },
        "c3d65dcd29464f98a271f7376c37f959": {
          "model_module": "@jupyter-widgets/base",
          "model_name": "LayoutModel",
          "state": {
            "_view_name": "LayoutView",
            "grid_template_rows": null,
            "right": null,
            "justify_content": null,
            "_view_module": "@jupyter-widgets/base",
            "overflow": null,
            "_model_module_version": "1.2.0",
            "_view_count": null,
            "flex_flow": null,
            "width": null,
            "min_width": null,
            "border": null,
            "align_items": null,
            "bottom": null,
            "_model_module": "@jupyter-widgets/base",
            "top": null,
            "grid_column": null,
            "overflow_y": null,
            "overflow_x": null,
            "grid_auto_flow": null,
            "grid_area": null,
            "grid_template_columns": null,
            "flex": null,
            "_model_name": "LayoutModel",
            "justify_items": null,
            "grid_row": null,
            "max_height": null,
            "align_content": null,
            "visibility": null,
            "align_self": null,
            "height": null,
            "min_height": null,
            "padding": null,
            "grid_auto_rows": null,
            "grid_gap": null,
            "max_width": null,
            "order": null,
            "_view_module_version": "1.2.0",
            "grid_template_areas": null,
            "object_position": null,
            "object_fit": null,
            "grid_auto_columns": null,
            "margin": null,
            "display": null,
            "left": null
          }
        },
        "17c917d817e44656873aff9d9a573bc2": {
          "model_module": "@jupyter-widgets/controls",
          "model_name": "FloatProgressModel",
          "state": {
            "_view_name": "ProgressView",
            "style": "IPY_MODEL_fb581b124c9041e09da328f2392b4ac0",
            "_dom_classes": [],
            "description": "",
            "_model_name": "FloatProgressModel",
            "bar_style": "success",
            "max": 1,
            "_view_module": "@jupyter-widgets/controls",
            "_model_module_version": "1.5.0",
            "value": 1,
            "_view_count": null,
            "_view_module_version": "1.5.0",
            "orientation": "horizontal",
            "min": 0,
            "description_tooltip": null,
            "_model_module": "@jupyter-widgets/controls",
            "layout": "IPY_MODEL_860dddbd4cbe4da4ae9d51a2565fdb41"
          }
        },
        "a85a758282e040e9ac0be78d03252d38": {
          "model_module": "@jupyter-widgets/controls",
          "model_name": "HTMLModel",
          "state": {
            "_view_name": "HTMLView",
            "style": "IPY_MODEL_7198507cc63948f8a0b0bb043927eae5",
            "_dom_classes": [],
            "description": "",
            "_model_name": "HTMLModel",
            "placeholder": "​",
            "_view_module": "@jupyter-widgets/controls",
            "_model_module_version": "1.5.0",
            "value": " 9920512/? [00:00&lt;00:00, 16693296.13it/s]",
            "_view_count": null,
            "_view_module_version": "1.5.0",
            "description_tooltip": null,
            "_model_module": "@jupyter-widgets/controls",
            "layout": "IPY_MODEL_635af68148d94e3ca11a30932310452b"
          }
        },
        "fb581b124c9041e09da328f2392b4ac0": {
          "model_module": "@jupyter-widgets/controls",
          "model_name": "ProgressStyleModel",
          "state": {
            "_view_name": "StyleView",
            "_model_name": "ProgressStyleModel",
            "description_width": "initial",
            "_view_module": "@jupyter-widgets/base",
            "_model_module_version": "1.5.0",
            "_view_count": null,
            "_view_module_version": "1.2.0",
            "bar_color": null,
            "_model_module": "@jupyter-widgets/controls"
          }
        },
        "860dddbd4cbe4da4ae9d51a2565fdb41": {
          "model_module": "@jupyter-widgets/base",
          "model_name": "LayoutModel",
          "state": {
            "_view_name": "LayoutView",
            "grid_template_rows": null,
            "right": null,
            "justify_content": null,
            "_view_module": "@jupyter-widgets/base",
            "overflow": null,
            "_model_module_version": "1.2.0",
            "_view_count": null,
            "flex_flow": null,
            "width": null,
            "min_width": null,
            "border": null,
            "align_items": null,
            "bottom": null,
            "_model_module": "@jupyter-widgets/base",
            "top": null,
            "grid_column": null,
            "overflow_y": null,
            "overflow_x": null,
            "grid_auto_flow": null,
            "grid_area": null,
            "grid_template_columns": null,
            "flex": null,
            "_model_name": "LayoutModel",
            "justify_items": null,
            "grid_row": null,
            "max_height": null,
            "align_content": null,
            "visibility": null,
            "align_self": null,
            "height": null,
            "min_height": null,
            "padding": null,
            "grid_auto_rows": null,
            "grid_gap": null,
            "max_width": null,
            "order": null,
            "_view_module_version": "1.2.0",
            "grid_template_areas": null,
            "object_position": null,
            "object_fit": null,
            "grid_auto_columns": null,
            "margin": null,
            "display": null,
            "left": null
          }
        },
        "7198507cc63948f8a0b0bb043927eae5": {
          "model_module": "@jupyter-widgets/controls",
          "model_name": "DescriptionStyleModel",
          "state": {
            "_view_name": "StyleView",
            "_model_name": "DescriptionStyleModel",
            "description_width": "",
            "_view_module": "@jupyter-widgets/base",
            "_model_module_version": "1.5.0",
            "_view_count": null,
            "_view_module_version": "1.2.0",
            "_model_module": "@jupyter-widgets/controls"
          }
        },
        "635af68148d94e3ca11a30932310452b": {
          "model_module": "@jupyter-widgets/base",
          "model_name": "LayoutModel",
          "state": {
            "_view_name": "LayoutView",
            "grid_template_rows": null,
            "right": null,
            "justify_content": null,
            "_view_module": "@jupyter-widgets/base",
            "overflow": null,
            "_model_module_version": "1.2.0",
            "_view_count": null,
            "flex_flow": null,
            "width": null,
            "min_width": null,
            "border": null,
            "align_items": null,
            "bottom": null,
            "_model_module": "@jupyter-widgets/base",
            "top": null,
            "grid_column": null,
            "overflow_y": null,
            "overflow_x": null,
            "grid_auto_flow": null,
            "grid_area": null,
            "grid_template_columns": null,
            "flex": null,
            "_model_name": "LayoutModel",
            "justify_items": null,
            "grid_row": null,
            "max_height": null,
            "align_content": null,
            "visibility": null,
            "align_self": null,
            "height": null,
            "min_height": null,
            "padding": null,
            "grid_auto_rows": null,
            "grid_gap": null,
            "max_width": null,
            "order": null,
            "_view_module_version": "1.2.0",
            "grid_template_areas": null,
            "object_position": null,
            "object_fit": null,
            "grid_auto_columns": null,
            "margin": null,
            "display": null,
            "left": null
          }
        },
        "70db17e8eacf480290e5c037d747903e": {
          "model_module": "@jupyter-widgets/controls",
          "model_name": "HBoxModel",
          "state": {
            "_view_name": "HBoxView",
            "_dom_classes": [],
            "_model_name": "HBoxModel",
            "_view_module": "@jupyter-widgets/controls",
            "_model_module_version": "1.5.0",
            "_view_count": null,
            "_view_module_version": "1.5.0",
            "box_style": "",
            "layout": "IPY_MODEL_a1eb9bdd9b7b4433824179e120344f29",
            "_model_module": "@jupyter-widgets/controls",
            "children": [
              "IPY_MODEL_a242735822324f09b5e9455dbe564277",
              "IPY_MODEL_318669a394d74027ba1ec3cb860d8362"
            ]
          }
        },
        "a1eb9bdd9b7b4433824179e120344f29": {
          "model_module": "@jupyter-widgets/base",
          "model_name": "LayoutModel",
          "state": {
            "_view_name": "LayoutView",
            "grid_template_rows": null,
            "right": null,
            "justify_content": null,
            "_view_module": "@jupyter-widgets/base",
            "overflow": null,
            "_model_module_version": "1.2.0",
            "_view_count": null,
            "flex_flow": null,
            "width": null,
            "min_width": null,
            "border": null,
            "align_items": null,
            "bottom": null,
            "_model_module": "@jupyter-widgets/base",
            "top": null,
            "grid_column": null,
            "overflow_y": null,
            "overflow_x": null,
            "grid_auto_flow": null,
            "grid_area": null,
            "grid_template_columns": null,
            "flex": null,
            "_model_name": "LayoutModel",
            "justify_items": null,
            "grid_row": null,
            "max_height": null,
            "align_content": null,
            "visibility": null,
            "align_self": null,
            "height": null,
            "min_height": null,
            "padding": null,
            "grid_auto_rows": null,
            "grid_gap": null,
            "max_width": null,
            "order": null,
            "_view_module_version": "1.2.0",
            "grid_template_areas": null,
            "object_position": null,
            "object_fit": null,
            "grid_auto_columns": null,
            "margin": null,
            "display": null,
            "left": null
          }
        },
        "a242735822324f09b5e9455dbe564277": {
          "model_module": "@jupyter-widgets/controls",
          "model_name": "FloatProgressModel",
          "state": {
            "_view_name": "ProgressView",
            "style": "IPY_MODEL_cb6575e7169b4a01a00cac13f67a2bd5",
            "_dom_classes": [],
            "description": "",
            "_model_name": "FloatProgressModel",
            "bar_style": "success",
            "max": 1,
            "_view_module": "@jupyter-widgets/controls",
            "_model_module_version": "1.5.0",
            "value": 1,
            "_view_count": null,
            "_view_module_version": "1.5.0",
            "orientation": "horizontal",
            "min": 0,
            "description_tooltip": null,
            "_model_module": "@jupyter-widgets/controls",
            "layout": "IPY_MODEL_6d705565f967411e975cfc167054b894"
          }
        },
        "318669a394d74027ba1ec3cb860d8362": {
          "model_module": "@jupyter-widgets/controls",
          "model_name": "HTMLModel",
          "state": {
            "_view_name": "HTMLView",
            "style": "IPY_MODEL_01663812b1064bf781570e7bf41120b0",
            "_dom_classes": [],
            "description": "",
            "_model_name": "HTMLModel",
            "placeholder": "​",
            "_view_module": "@jupyter-widgets/controls",
            "_model_module_version": "1.5.0",
            "value": " 32768/? [00:00&lt;00:00, 35756.19it/s]",
            "_view_count": null,
            "_view_module_version": "1.5.0",
            "description_tooltip": null,
            "_model_module": "@jupyter-widgets/controls",
            "layout": "IPY_MODEL_cd5621c5d48f4dcfa6045cf20ab3dc4c"
          }
        },
        "cb6575e7169b4a01a00cac13f67a2bd5": {
          "model_module": "@jupyter-widgets/controls",
          "model_name": "ProgressStyleModel",
          "state": {
            "_view_name": "StyleView",
            "_model_name": "ProgressStyleModel",
            "description_width": "initial",
            "_view_module": "@jupyter-widgets/base",
            "_model_module_version": "1.5.0",
            "_view_count": null,
            "_view_module_version": "1.2.0",
            "bar_color": null,
            "_model_module": "@jupyter-widgets/controls"
          }
        },
        "6d705565f967411e975cfc167054b894": {
          "model_module": "@jupyter-widgets/base",
          "model_name": "LayoutModel",
          "state": {
            "_view_name": "LayoutView",
            "grid_template_rows": null,
            "right": null,
            "justify_content": null,
            "_view_module": "@jupyter-widgets/base",
            "overflow": null,
            "_model_module_version": "1.2.0",
            "_view_count": null,
            "flex_flow": null,
            "width": null,
            "min_width": null,
            "border": null,
            "align_items": null,
            "bottom": null,
            "_model_module": "@jupyter-widgets/base",
            "top": null,
            "grid_column": null,
            "overflow_y": null,
            "overflow_x": null,
            "grid_auto_flow": null,
            "grid_area": null,
            "grid_template_columns": null,
            "flex": null,
            "_model_name": "LayoutModel",
            "justify_items": null,
            "grid_row": null,
            "max_height": null,
            "align_content": null,
            "visibility": null,
            "align_self": null,
            "height": null,
            "min_height": null,
            "padding": null,
            "grid_auto_rows": null,
            "grid_gap": null,
            "max_width": null,
            "order": null,
            "_view_module_version": "1.2.0",
            "grid_template_areas": null,
            "object_position": null,
            "object_fit": null,
            "grid_auto_columns": null,
            "margin": null,
            "display": null,
            "left": null
          }
        },
        "01663812b1064bf781570e7bf41120b0": {
          "model_module": "@jupyter-widgets/controls",
          "model_name": "DescriptionStyleModel",
          "state": {
            "_view_name": "StyleView",
            "_model_name": "DescriptionStyleModel",
            "description_width": "",
            "_view_module": "@jupyter-widgets/base",
            "_model_module_version": "1.5.0",
            "_view_count": null,
            "_view_module_version": "1.2.0",
            "_model_module": "@jupyter-widgets/controls"
          }
        },
        "cd5621c5d48f4dcfa6045cf20ab3dc4c": {
          "model_module": "@jupyter-widgets/base",
          "model_name": "LayoutModel",
          "state": {
            "_view_name": "LayoutView",
            "grid_template_rows": null,
            "right": null,
            "justify_content": null,
            "_view_module": "@jupyter-widgets/base",
            "overflow": null,
            "_model_module_version": "1.2.0",
            "_view_count": null,
            "flex_flow": null,
            "width": null,
            "min_width": null,
            "border": null,
            "align_items": null,
            "bottom": null,
            "_model_module": "@jupyter-widgets/base",
            "top": null,
            "grid_column": null,
            "overflow_y": null,
            "overflow_x": null,
            "grid_auto_flow": null,
            "grid_area": null,
            "grid_template_columns": null,
            "flex": null,
            "_model_name": "LayoutModel",
            "justify_items": null,
            "grid_row": null,
            "max_height": null,
            "align_content": null,
            "visibility": null,
            "align_self": null,
            "height": null,
            "min_height": null,
            "padding": null,
            "grid_auto_rows": null,
            "grid_gap": null,
            "max_width": null,
            "order": null,
            "_view_module_version": "1.2.0",
            "grid_template_areas": null,
            "object_position": null,
            "object_fit": null,
            "grid_auto_columns": null,
            "margin": null,
            "display": null,
            "left": null
          }
        },
        "09e7c8193feb4c0c8437c92da3030b0c": {
          "model_module": "@jupyter-widgets/controls",
          "model_name": "HBoxModel",
          "state": {
            "_view_name": "HBoxView",
            "_dom_classes": [],
            "_model_name": "HBoxModel",
            "_view_module": "@jupyter-widgets/controls",
            "_model_module_version": "1.5.0",
            "_view_count": null,
            "_view_module_version": "1.5.0",
            "box_style": "",
            "layout": "IPY_MODEL_dfb7f249095d4731b27174bbedf941ca",
            "_model_module": "@jupyter-widgets/controls",
            "children": [
              "IPY_MODEL_10d817b5b74140628f3953f13465106a",
              "IPY_MODEL_812f1a83cad544d084e06b111df6dddc"
            ]
          }
        },
        "dfb7f249095d4731b27174bbedf941ca": {
          "model_module": "@jupyter-widgets/base",
          "model_name": "LayoutModel",
          "state": {
            "_view_name": "LayoutView",
            "grid_template_rows": null,
            "right": null,
            "justify_content": null,
            "_view_module": "@jupyter-widgets/base",
            "overflow": null,
            "_model_module_version": "1.2.0",
            "_view_count": null,
            "flex_flow": null,
            "width": null,
            "min_width": null,
            "border": null,
            "align_items": null,
            "bottom": null,
            "_model_module": "@jupyter-widgets/base",
            "top": null,
            "grid_column": null,
            "overflow_y": null,
            "overflow_x": null,
            "grid_auto_flow": null,
            "grid_area": null,
            "grid_template_columns": null,
            "flex": null,
            "_model_name": "LayoutModel",
            "justify_items": null,
            "grid_row": null,
            "max_height": null,
            "align_content": null,
            "visibility": null,
            "align_self": null,
            "height": null,
            "min_height": null,
            "padding": null,
            "grid_auto_rows": null,
            "grid_gap": null,
            "max_width": null,
            "order": null,
            "_view_module_version": "1.2.0",
            "grid_template_areas": null,
            "object_position": null,
            "object_fit": null,
            "grid_auto_columns": null,
            "margin": null,
            "display": null,
            "left": null
          }
        },
        "10d817b5b74140628f3953f13465106a": {
          "model_module": "@jupyter-widgets/controls",
          "model_name": "FloatProgressModel",
          "state": {
            "_view_name": "ProgressView",
            "style": "IPY_MODEL_9ad39cdd3232460a9f280027a95a6b21",
            "_dom_classes": [],
            "description": "",
            "_model_name": "FloatProgressModel",
            "bar_style": "success",
            "max": 1,
            "_view_module": "@jupyter-widgets/controls",
            "_model_module_version": "1.5.0",
            "value": 1,
            "_view_count": null,
            "_view_module_version": "1.5.0",
            "orientation": "horizontal",
            "min": 0,
            "description_tooltip": null,
            "_model_module": "@jupyter-widgets/controls",
            "layout": "IPY_MODEL_8ca734b9fbb74228901bef76d3f26d85"
          }
        },
        "812f1a83cad544d084e06b111df6dddc": {
          "model_module": "@jupyter-widgets/controls",
          "model_name": "HTMLModel",
          "state": {
            "_view_name": "HTMLView",
            "style": "IPY_MODEL_39c16045ad704576acaa1452824d2166",
            "_dom_classes": [],
            "description": "",
            "_model_name": "HTMLModel",
            "placeholder": "​",
            "_view_module": "@jupyter-widgets/controls",
            "_model_module_version": "1.5.0",
            "value": " 1654784/? [00:00&lt;00:00, 2887314.12it/s]",
            "_view_count": null,
            "_view_module_version": "1.5.0",
            "description_tooltip": null,
            "_model_module": "@jupyter-widgets/controls",
            "layout": "IPY_MODEL_3f16eedc71ea477ba17ed0abae3ce8a4"
          }
        },
        "9ad39cdd3232460a9f280027a95a6b21": {
          "model_module": "@jupyter-widgets/controls",
          "model_name": "ProgressStyleModel",
          "state": {
            "_view_name": "StyleView",
            "_model_name": "ProgressStyleModel",
            "description_width": "initial",
            "_view_module": "@jupyter-widgets/base",
            "_model_module_version": "1.5.0",
            "_view_count": null,
            "_view_module_version": "1.2.0",
            "bar_color": null,
            "_model_module": "@jupyter-widgets/controls"
          }
        },
        "8ca734b9fbb74228901bef76d3f26d85": {
          "model_module": "@jupyter-widgets/base",
          "model_name": "LayoutModel",
          "state": {
            "_view_name": "LayoutView",
            "grid_template_rows": null,
            "right": null,
            "justify_content": null,
            "_view_module": "@jupyter-widgets/base",
            "overflow": null,
            "_model_module_version": "1.2.0",
            "_view_count": null,
            "flex_flow": null,
            "width": null,
            "min_width": null,
            "border": null,
            "align_items": null,
            "bottom": null,
            "_model_module": "@jupyter-widgets/base",
            "top": null,
            "grid_column": null,
            "overflow_y": null,
            "overflow_x": null,
            "grid_auto_flow": null,
            "grid_area": null,
            "grid_template_columns": null,
            "flex": null,
            "_model_name": "LayoutModel",
            "justify_items": null,
            "grid_row": null,
            "max_height": null,
            "align_content": null,
            "visibility": null,
            "align_self": null,
            "height": null,
            "min_height": null,
            "padding": null,
            "grid_auto_rows": null,
            "grid_gap": null,
            "max_width": null,
            "order": null,
            "_view_module_version": "1.2.0",
            "grid_template_areas": null,
            "object_position": null,
            "object_fit": null,
            "grid_auto_columns": null,
            "margin": null,
            "display": null,
            "left": null
          }
        },
        "39c16045ad704576acaa1452824d2166": {
          "model_module": "@jupyter-widgets/controls",
          "model_name": "DescriptionStyleModel",
          "state": {
            "_view_name": "StyleView",
            "_model_name": "DescriptionStyleModel",
            "description_width": "",
            "_view_module": "@jupyter-widgets/base",
            "_model_module_version": "1.5.0",
            "_view_count": null,
            "_view_module_version": "1.2.0",
            "_model_module": "@jupyter-widgets/controls"
          }
        },
        "3f16eedc71ea477ba17ed0abae3ce8a4": {
          "model_module": "@jupyter-widgets/base",
          "model_name": "LayoutModel",
          "state": {
            "_view_name": "LayoutView",
            "grid_template_rows": null,
            "right": null,
            "justify_content": null,
            "_view_module": "@jupyter-widgets/base",
            "overflow": null,
            "_model_module_version": "1.2.0",
            "_view_count": null,
            "flex_flow": null,
            "width": null,
            "min_width": null,
            "border": null,
            "align_items": null,
            "bottom": null,
            "_model_module": "@jupyter-widgets/base",
            "top": null,
            "grid_column": null,
            "overflow_y": null,
            "overflow_x": null,
            "grid_auto_flow": null,
            "grid_area": null,
            "grid_template_columns": null,
            "flex": null,
            "_model_name": "LayoutModel",
            "justify_items": null,
            "grid_row": null,
            "max_height": null,
            "align_content": null,
            "visibility": null,
            "align_self": null,
            "height": null,
            "min_height": null,
            "padding": null,
            "grid_auto_rows": null,
            "grid_gap": null,
            "max_width": null,
            "order": null,
            "_view_module_version": "1.2.0",
            "grid_template_areas": null,
            "object_position": null,
            "object_fit": null,
            "grid_auto_columns": null,
            "margin": null,
            "display": null,
            "left": null
          }
        },
        "5a9d081a4d9d43b097f14d2f3d9d2ecb": {
          "model_module": "@jupyter-widgets/controls",
          "model_name": "HBoxModel",
          "state": {
            "_view_name": "HBoxView",
            "_dom_classes": [],
            "_model_name": "HBoxModel",
            "_view_module": "@jupyter-widgets/controls",
            "_model_module_version": "1.5.0",
            "_view_count": null,
            "_view_module_version": "1.5.0",
            "box_style": "",
            "layout": "IPY_MODEL_e7cafb828465478ba343bb02b24a704a",
            "_model_module": "@jupyter-widgets/controls",
            "children": [
              "IPY_MODEL_dd43e15a68e6422188064553de2d4ed4",
              "IPY_MODEL_9262f296df444887914baeb9d6346be2"
            ]
          }
        },
        "e7cafb828465478ba343bb02b24a704a": {
          "model_module": "@jupyter-widgets/base",
          "model_name": "LayoutModel",
          "state": {
            "_view_name": "LayoutView",
            "grid_template_rows": null,
            "right": null,
            "justify_content": null,
            "_view_module": "@jupyter-widgets/base",
            "overflow": null,
            "_model_module_version": "1.2.0",
            "_view_count": null,
            "flex_flow": null,
            "width": null,
            "min_width": null,
            "border": null,
            "align_items": null,
            "bottom": null,
            "_model_module": "@jupyter-widgets/base",
            "top": null,
            "grid_column": null,
            "overflow_y": null,
            "overflow_x": null,
            "grid_auto_flow": null,
            "grid_area": null,
            "grid_template_columns": null,
            "flex": null,
            "_model_name": "LayoutModel",
            "justify_items": null,
            "grid_row": null,
            "max_height": null,
            "align_content": null,
            "visibility": null,
            "align_self": null,
            "height": null,
            "min_height": null,
            "padding": null,
            "grid_auto_rows": null,
            "grid_gap": null,
            "max_width": null,
            "order": null,
            "_view_module_version": "1.2.0",
            "grid_template_areas": null,
            "object_position": null,
            "object_fit": null,
            "grid_auto_columns": null,
            "margin": null,
            "display": null,
            "left": null
          }
        },
        "dd43e15a68e6422188064553de2d4ed4": {
          "model_module": "@jupyter-widgets/controls",
          "model_name": "FloatProgressModel",
          "state": {
            "_view_name": "ProgressView",
            "style": "IPY_MODEL_98da4a8d1adf47cf96941e8851dd693a",
            "_dom_classes": [],
            "description": "",
            "_model_name": "FloatProgressModel",
            "bar_style": "success",
            "max": 1,
            "_view_module": "@jupyter-widgets/controls",
            "_model_module_version": "1.5.0",
            "value": 1,
            "_view_count": null,
            "_view_module_version": "1.5.0",
            "orientation": "horizontal",
            "min": 0,
            "description_tooltip": null,
            "_model_module": "@jupyter-widgets/controls",
            "layout": "IPY_MODEL_83a8791192224360b9685cf9893bbc7f"
          }
        },
        "9262f296df444887914baeb9d6346be2": {
          "model_module": "@jupyter-widgets/controls",
          "model_name": "HTMLModel",
          "state": {
            "_view_name": "HTMLView",
            "style": "IPY_MODEL_9c6f418edd5e45dfb86371fe241ceff8",
            "_dom_classes": [],
            "description": "",
            "_model_name": "HTMLModel",
            "placeholder": "​",
            "_view_module": "@jupyter-widgets/controls",
            "_model_module_version": "1.5.0",
            "value": " 8192/? [00:00&lt;00:00, 23801.10it/s]",
            "_view_count": null,
            "_view_module_version": "1.5.0",
            "description_tooltip": null,
            "_model_module": "@jupyter-widgets/controls",
            "layout": "IPY_MODEL_d8babc2f92bd4c2e94833bd5ebba4f50"
          }
        },
        "98da4a8d1adf47cf96941e8851dd693a": {
          "model_module": "@jupyter-widgets/controls",
          "model_name": "ProgressStyleModel",
          "state": {
            "_view_name": "StyleView",
            "_model_name": "ProgressStyleModel",
            "description_width": "initial",
            "_view_module": "@jupyter-widgets/base",
            "_model_module_version": "1.5.0",
            "_view_count": null,
            "_view_module_version": "1.2.0",
            "bar_color": null,
            "_model_module": "@jupyter-widgets/controls"
          }
        },
        "83a8791192224360b9685cf9893bbc7f": {
          "model_module": "@jupyter-widgets/base",
          "model_name": "LayoutModel",
          "state": {
            "_view_name": "LayoutView",
            "grid_template_rows": null,
            "right": null,
            "justify_content": null,
            "_view_module": "@jupyter-widgets/base",
            "overflow": null,
            "_model_module_version": "1.2.0",
            "_view_count": null,
            "flex_flow": null,
            "width": null,
            "min_width": null,
            "border": null,
            "align_items": null,
            "bottom": null,
            "_model_module": "@jupyter-widgets/base",
            "top": null,
            "grid_column": null,
            "overflow_y": null,
            "overflow_x": null,
            "grid_auto_flow": null,
            "grid_area": null,
            "grid_template_columns": null,
            "flex": null,
            "_model_name": "LayoutModel",
            "justify_items": null,
            "grid_row": null,
            "max_height": null,
            "align_content": null,
            "visibility": null,
            "align_self": null,
            "height": null,
            "min_height": null,
            "padding": null,
            "grid_auto_rows": null,
            "grid_gap": null,
            "max_width": null,
            "order": null,
            "_view_module_version": "1.2.0",
            "grid_template_areas": null,
            "object_position": null,
            "object_fit": null,
            "grid_auto_columns": null,
            "margin": null,
            "display": null,
            "left": null
          }
        },
        "9c6f418edd5e45dfb86371fe241ceff8": {
          "model_module": "@jupyter-widgets/controls",
          "model_name": "DescriptionStyleModel",
          "state": {
            "_view_name": "StyleView",
            "_model_name": "DescriptionStyleModel",
            "description_width": "",
            "_view_module": "@jupyter-widgets/base",
            "_model_module_version": "1.5.0",
            "_view_count": null,
            "_view_module_version": "1.2.0",
            "_model_module": "@jupyter-widgets/controls"
          }
        },
        "d8babc2f92bd4c2e94833bd5ebba4f50": {
          "model_module": "@jupyter-widgets/base",
          "model_name": "LayoutModel",
          "state": {
            "_view_name": "LayoutView",
            "grid_template_rows": null,
            "right": null,
            "justify_content": null,
            "_view_module": "@jupyter-widgets/base",
            "overflow": null,
            "_model_module_version": "1.2.0",
            "_view_count": null,
            "flex_flow": null,
            "width": null,
            "min_width": null,
            "border": null,
            "align_items": null,
            "bottom": null,
            "_model_module": "@jupyter-widgets/base",
            "top": null,
            "grid_column": null,
            "overflow_y": null,
            "overflow_x": null,
            "grid_auto_flow": null,
            "grid_area": null,
            "grid_template_columns": null,
            "flex": null,
            "_model_name": "LayoutModel",
            "justify_items": null,
            "grid_row": null,
            "max_height": null,
            "align_content": null,
            "visibility": null,
            "align_self": null,
            "height": null,
            "min_height": null,
            "padding": null,
            "grid_auto_rows": null,
            "grid_gap": null,
            "max_width": null,
            "order": null,
            "_view_module_version": "1.2.0",
            "grid_template_areas": null,
            "object_position": null,
            "object_fit": null,
            "grid_auto_columns": null,
            "margin": null,
            "display": null,
            "left": null
          }
        },
        "50f20e79b1ee4fe4937ea34862e6b4bc": {
          "model_module": "@jupyter-widgets/controls",
          "model_name": "HBoxModel",
          "state": {
            "_view_name": "HBoxView",
            "_dom_classes": [],
            "_model_name": "HBoxModel",
            "_view_module": "@jupyter-widgets/controls",
            "_model_module_version": "1.5.0",
            "_view_count": null,
            "_view_module_version": "1.5.0",
            "box_style": "",
            "layout": "IPY_MODEL_274031e020c4404ba584824887255f3d",
            "_model_module": "@jupyter-widgets/controls",
            "children": [
              "IPY_MODEL_bcf0d710e9194b6ab535319fa2f3741f",
              "IPY_MODEL_1854e9c8bf5b4850a84d8f0cad11d790"
            ]
          }
        },
        "274031e020c4404ba584824887255f3d": {
          "model_module": "@jupyter-widgets/base",
          "model_name": "LayoutModel",
          "state": {
            "_view_name": "LayoutView",
            "grid_template_rows": null,
            "right": null,
            "justify_content": null,
            "_view_module": "@jupyter-widgets/base",
            "overflow": null,
            "_model_module_version": "1.2.0",
            "_view_count": null,
            "flex_flow": null,
            "width": null,
            "min_width": null,
            "border": null,
            "align_items": null,
            "bottom": null,
            "_model_module": "@jupyter-widgets/base",
            "top": null,
            "grid_column": null,
            "overflow_y": null,
            "overflow_x": null,
            "grid_auto_flow": null,
            "grid_area": null,
            "grid_template_columns": null,
            "flex": null,
            "_model_name": "LayoutModel",
            "justify_items": null,
            "grid_row": null,
            "max_height": null,
            "align_content": null,
            "visibility": null,
            "align_self": null,
            "height": null,
            "min_height": null,
            "padding": null,
            "grid_auto_rows": null,
            "grid_gap": null,
            "max_width": null,
            "order": null,
            "_view_module_version": "1.2.0",
            "grid_template_areas": null,
            "object_position": null,
            "object_fit": null,
            "grid_auto_columns": null,
            "margin": null,
            "display": null,
            "left": null
          }
        },
        "bcf0d710e9194b6ab535319fa2f3741f": {
          "model_module": "@jupyter-widgets/controls",
          "model_name": "FloatProgressModel",
          "state": {
            "_view_name": "ProgressView",
            "style": "IPY_MODEL_0d3f62bfa5ba4034878ec8905ca5abf8",
            "_dom_classes": [],
            "description": "100%",
            "_model_name": "FloatProgressModel",
            "bar_style": "success",
            "max": 150,
            "_view_module": "@jupyter-widgets/controls",
            "_model_module_version": "1.5.0",
            "value": 150,
            "_view_count": null,
            "_view_module_version": "1.5.0",
            "orientation": "horizontal",
            "min": 0,
            "description_tooltip": null,
            "_model_module": "@jupyter-widgets/controls",
            "layout": "IPY_MODEL_9506da068b73477eb633894b01b6ba3a"
          }
        },
        "1854e9c8bf5b4850a84d8f0cad11d790": {
          "model_module": "@jupyter-widgets/controls",
          "model_name": "HTMLModel",
          "state": {
            "_view_name": "HTMLView",
            "style": "IPY_MODEL_d23054775f0e42709e6d7a7d7b09cd7b",
            "_dom_classes": [],
            "description": "",
            "_model_name": "HTMLModel",
            "placeholder": "​",
            "_view_module": "@jupyter-widgets/controls",
            "_model_module_version": "1.5.0",
            "value": " 150/150 [00:19&lt;00:00,  7.77it/s]",
            "_view_count": null,
            "_view_module_version": "1.5.0",
            "description_tooltip": null,
            "_model_module": "@jupyter-widgets/controls",
            "layout": "IPY_MODEL_ed75c1eb36c04df4bb3503ce83011f6f"
          }
        },
        "0d3f62bfa5ba4034878ec8905ca5abf8": {
          "model_module": "@jupyter-widgets/controls",
          "model_name": "ProgressStyleModel",
          "state": {
            "_view_name": "StyleView",
            "_model_name": "ProgressStyleModel",
            "description_width": "initial",
            "_view_module": "@jupyter-widgets/base",
            "_model_module_version": "1.5.0",
            "_view_count": null,
            "_view_module_version": "1.2.0",
            "bar_color": null,
            "_model_module": "@jupyter-widgets/controls"
          }
        },
        "9506da068b73477eb633894b01b6ba3a": {
          "model_module": "@jupyter-widgets/base",
          "model_name": "LayoutModel",
          "state": {
            "_view_name": "LayoutView",
            "grid_template_rows": null,
            "right": null,
            "justify_content": null,
            "_view_module": "@jupyter-widgets/base",
            "overflow": null,
            "_model_module_version": "1.2.0",
            "_view_count": null,
            "flex_flow": null,
            "width": null,
            "min_width": null,
            "border": null,
            "align_items": null,
            "bottom": null,
            "_model_module": "@jupyter-widgets/base",
            "top": null,
            "grid_column": null,
            "overflow_y": null,
            "overflow_x": null,
            "grid_auto_flow": null,
            "grid_area": null,
            "grid_template_columns": null,
            "flex": null,
            "_model_name": "LayoutModel",
            "justify_items": null,
            "grid_row": null,
            "max_height": null,
            "align_content": null,
            "visibility": null,
            "align_self": null,
            "height": null,
            "min_height": null,
            "padding": null,
            "grid_auto_rows": null,
            "grid_gap": null,
            "max_width": null,
            "order": null,
            "_view_module_version": "1.2.0",
            "grid_template_areas": null,
            "object_position": null,
            "object_fit": null,
            "grid_auto_columns": null,
            "margin": null,
            "display": null,
            "left": null
          }
        },
        "d23054775f0e42709e6d7a7d7b09cd7b": {
          "model_module": "@jupyter-widgets/controls",
          "model_name": "DescriptionStyleModel",
          "state": {
            "_view_name": "StyleView",
            "_model_name": "DescriptionStyleModel",
            "description_width": "",
            "_view_module": "@jupyter-widgets/base",
            "_model_module_version": "1.5.0",
            "_view_count": null,
            "_view_module_version": "1.2.0",
            "_model_module": "@jupyter-widgets/controls"
          }
        },
        "ed75c1eb36c04df4bb3503ce83011f6f": {
          "model_module": "@jupyter-widgets/base",
          "model_name": "LayoutModel",
          "state": {
            "_view_name": "LayoutView",
            "grid_template_rows": null,
            "right": null,
            "justify_content": null,
            "_view_module": "@jupyter-widgets/base",
            "overflow": null,
            "_model_module_version": "1.2.0",
            "_view_count": null,
            "flex_flow": null,
            "width": null,
            "min_width": null,
            "border": null,
            "align_items": null,
            "bottom": null,
            "_model_module": "@jupyter-widgets/base",
            "top": null,
            "grid_column": null,
            "overflow_y": null,
            "overflow_x": null,
            "grid_auto_flow": null,
            "grid_area": null,
            "grid_template_columns": null,
            "flex": null,
            "_model_name": "LayoutModel",
            "justify_items": null,
            "grid_row": null,
            "max_height": null,
            "align_content": null,
            "visibility": null,
            "align_self": null,
            "height": null,
            "min_height": null,
            "padding": null,
            "grid_auto_rows": null,
            "grid_gap": null,
            "max_width": null,
            "order": null,
            "_view_module_version": "1.2.0",
            "grid_template_areas": null,
            "object_position": null,
            "object_fit": null,
            "grid_auto_columns": null,
            "margin": null,
            "display": null,
            "left": null
          }
        }
      }
    }
  },
  "cells": [
    {
      "cell_type": "code",
      "metadata": {
        "id": "4q1IWOufzmu7"
      },
      "source": [
        "import random\n",
        "import os\n",
        "import math\n",
        "import itertools as it\n",
        "\n",
        "import numpy as np\n",
        "import matplotlib.pyplot as plt\n",
        "import seaborn as sns\n",
        "import torch, torchvision\n",
        "import torch.nn as nn\n",
        "import torch.nn.functional as F\n",
        "import torch.utils as utils\n",
        "\n",
        "from tqdm.notebook import tqdm\n",
        "\n",
        "\n",
        "device = \"cuda\" if torch.cuda.is_available() else \"cpu\""
      ],
      "execution_count": 1,
      "outputs": []
    },
    {
      "cell_type": "markdown",
      "metadata": {
        "id": "OFh4qMJ-zmvB"
      },
      "source": [
        "# 1. Data preparation"
      ]
    },
    {
      "cell_type": "markdown",
      "metadata": {
        "id": "526Lji-ozmvB"
      },
      "source": [
        "## Data loader class"
      ]
    },
    {
      "cell_type": "code",
      "metadata": {
        "id": "Eugq3wAZzmvB"
      },
      "source": [
        "def show_image(image, label=None, text=\"\"):\n",
        "    image = np.transpose(image.cpu().numpy(), (1, 2, 0))\n",
        "    if image.shape[2] == 1:\n",
        "        image = image[:, :, 0]\n",
        "\n",
        "    plt.figure(figsize=(4, 8))\n",
        "    plt.imshow(image)\n",
        "    title = \"unlabeled\" if label is None else str(label.item())\n",
        "    if text:\n",
        "        title += \", \" + text\n",
        "    plt.title(title)\n",
        "    plt.axis(\"off\")\n",
        "    plt.show()\n",
        "\n",
        "\n",
        "def show_pair(image1, image2, label=None, text=\"\"):\n",
        "    image1, image2 = image1.cpu().numpy(), image2.cpu().numpy()\n",
        "    joint_image = np.concatenate([image1, image2], axis=2)\n",
        "    joint_image = np.transpose(joint_image, (1, 2, 0))\n",
        "    if joint_image.shape[2] == 1:\n",
        "        joint_image = joint_image[:, :, 0]\n",
        "\n",
        "    plt.figure(figsize=(4, 8))\n",
        "    plt.imshow(joint_image)\n",
        "    title = \"unlabeled\" if label is None else str(label.item())\n",
        "    if text:\n",
        "        title += \", \" + text\n",
        "    plt.title(title)\n",
        "    plt.axis(\"off\")\n",
        "    plt.show()\n",
        "\n",
        "\n",
        "class DataPreparation:\n",
        "    @staticmethod\n",
        "    def prepare_MNIST(cls):\n",
        "        \"\"\" Uses MNIST to create and save the following datasets:\n",
        "                - classes is a list of form:\n",
        "                    l[i] = images of the digit i from the MNIST train set,\n",
        "                - oneshot is a list of form:\n",
        "                    l[i] = an example image of the digit i. \"\"\"\n",
        "        if \"data\" not in os.listdir():\n",
        "            os.mkdir(\"data\")\n",
        "        transform = torchvision.transforms.Compose(\n",
        "            [\n",
        "                torchvision.transforms.ToTensor(),\n",
        "                torchvision.transforms.Normalize((0.1307,), (0.3081,)),\n",
        "            ]\n",
        "        )\n",
        "        trainset = torchvision.datasets.MNIST(os.path.join(\"data\", \"downloaded\"), transform=transform, download=True)\n",
        "        train_classes = [[] for _ in range(10)]\n",
        "        for image, label in trainset:\n",
        "            train_classes[label].append(image)\n",
        "        oneshot = [images[-1] for images in train_classes]\n",
        "\n",
        "        testset = torchvision.datasets.MNIST(os.path.join(\"data\", \"downloaded\"), transform=transform, download=True, train=False)\n",
        "        test_classes = [[] for _ in range(10)]\n",
        "        for image, label in testset:\n",
        "            test_classes[label].append(image)\n",
        "\n",
        "        if \"processed\" not in os.listdir(\"data\"):\n",
        "            os.mkdir(os.path.join(\"data\", \"processed\"))\n",
        "        if cls.__name__ not in os.listdir(os.path.join(\"data\", \"processed\")):\n",
        "            os.mkdir(os.path.join(\"data\", \"processed\", cls.__name__))\n",
        "\n",
        "        torch.save(train_classes, os.path.join(\"data\", \"processed\", cls.__name__, \"train_classes.pth\"))\n",
        "        torch.save(test_classes, os.path.join(\"data\", \"processed\", cls.__name__, \"test_classes.pth\"))\n",
        "        torch.save(oneshot, os.path.join(\"data\", \"processed\", cls.__name__, \"oneshot.pth\"))\n",
        "\n",
        "        return train_classes, test_classes, oneshot\n",
        "\n",
        "\n",
        "class BaseDataset:\n",
        "    labels = None\n",
        "\n",
        "    @classmethod\n",
        "    def prepare_data(cls):\n",
        "        raise NotImplementedError\n",
        "\n",
        "    def __init__(self):\n",
        "        self._classes = None # dataset grouped by classes\n",
        "        self._test_classes = None # dedicated test set grouped by classes\n",
        "        self._oneshot = None # oneshot sample\n",
        "\n",
        "        self._unlabeled = None # unlabeled pairs\n",
        "        self._trainset = None # labeled pairs in training set\n",
        "        self._testset = None # labeled pairs in test set\n",
        "\n",
        "        if not os.path.exists(os.path.join(\"data\", \"processed\", self.__class__.__name__)):\n",
        "            self._classes, self._test_classes, self._oneshot = self.prepare_data()\n",
        "\n",
        "    @property\n",
        "    def classes(self):\n",
        "        if self._classes is None:\n",
        "            self.load_classes()\n",
        "        return self._classes\n",
        "    \n",
        "    @property\n",
        "    def test_classes(self):\n",
        "        if self._test_classes is None:\n",
        "            self.load_classes()\n",
        "        return self._test_classes\n",
        "\n",
        "    @property\n",
        "    def oneshot(self):\n",
        "        if self._oneshot is None:\n",
        "            self.load_oneshot()\n",
        "        return self._oneshot\n",
        "\n",
        "    @property\n",
        "    def unlabeled(self):\n",
        "        if self._unlabeled is None:\n",
        "            raise AttributeError(\"Use sample_unlabeled or load_unlabeled first.\")\n",
        "        return self._unlabeled\n",
        "\n",
        "    @property\n",
        "    def trainset(self):\n",
        "        if self._trainset is None:\n",
        "            raise AttributeError(\"Use sample_traintest or load_traintest first.\")\n",
        "        return self._trainset\n",
        "    \n",
        "    @property\n",
        "    def testset(self):\n",
        "        if self._testset is None:\n",
        "            raise AttributeError(\"Use sample_traintest or load_traintest first.\")\n",
        "        return self._testset\n",
        "    \n",
        "    def sample_traintest(self, *args, **kwargs):\n",
        "        raise NotImplementedError\n",
        "\n",
        "    def save_traintest(self):\n",
        "        dataset_name = self.__class__.__name__\n",
        "        torch.save(self.trainset, os.path.join(\"data\", \"processed\", dataset_name, \"train_sample.pth\"))\n",
        "        torch.save(self.testset, os.path.join(\"data\", \"processed\", dataset_name, \"test_sample.pth\"))\n",
        "\n",
        "    def save_unlabeled(self):\n",
        "        dataset_name = self.__class__.__name__\n",
        "        torch.save(self.unlabeled, os.path.join(\"data\", \"processed\", dataset_name, \"unlabeled.pth\"))\n",
        "\n",
        "    def load_traintest(self):\n",
        "        dataset_name = self.__class__.__name__\n",
        "        try:\n",
        "            self._trainset = torch.load(\n",
        "                os.path.join(\"data\", \"processed\", dataset_name, \"train_sample.pth\")\n",
        "            )\n",
        "            self._testset = torch.load(\n",
        "                os.path.join(\"data\", \"processed\", dataset_name, \"test_sample.pth\")\n",
        "            )\n",
        "            return self._trainset, self._testset\n",
        "        except FileNotFoundError as e:\n",
        "            e.args = (\n",
        "                \"Either trainset or testset cannot be loaded. Use sample_traintest and save_traintest first.\",\n",
        "            )\n",
        "            raise\n",
        "\n",
        "    def load_unlabeled(self):\n",
        "        dataset_name = self.__class__.__name__\n",
        "        try:\n",
        "            self._unlabeled = torch.load(\n",
        "                os.path.join(\"data\", \"processed\", dataset_name, \"unlabeled.pth\")\n",
        "            )\n",
        "            return self._unlabeled\n",
        "        except FileNotFoundError as e:\n",
        "            e.args = (\n",
        "                \"unlabeled cannot be loaded. Use sample_unlabeled and save_unlabeled first.\",\n",
        "            )\n",
        "            raise\n",
        "\n",
        "    def load_classes(self):\n",
        "        dataset_name = self.__class__.__name__\n",
        "        try:\n",
        "            self._classes = torch.load(os.path.join(\"data\", \"processed\", dataset_name, \"train_classes.pth\"))\n",
        "            self._test_classes = torch.load(os.path.join(\"data\", \"processed\", dataset_name, \"test_classes.pth\"))\n",
        "        except FileNotFoundError:\n",
        "            self._classes, self._test_classes, self._oneshot = self.prepare_data()\n",
        "        return self._classes\n",
        "\n",
        "    def load_oneshot(self):\n",
        "        dataset_name = self.__class__.__name__\n",
        "        try:\n",
        "            self._oneshot = torch.load(os.path.join(\"data\", \"processed\", dataset_name, \"oneshot.pth\"))\n",
        "            return self._oneshot\n",
        "        except FileNotFoundError:\n",
        "            self._classes, self._oneshot = self.prepare_data()\n",
        "        return self._oneshot\n",
        "    \n",
        "    def show_oneshot(self):\n",
        "        oneshot = [image.numpy().transpose((1, 2, 0)) for image in self.oneshot]\n",
        "        row1 = np.concatenate(oneshot[:5], axis=1)\n",
        "        row2 = np.concatenate(oneshot[5:], axis=1)\n",
        "        joint_image = np.concatenate([row1, row2], axis=0)\n",
        "        if joint_image.shape[2] == 1:\n",
        "            joint_image = joint_image[:, :, 0]\n",
        "\n",
        "        plt.figure(figsize=(8, 20))\n",
        "        plt.imshow(joint_image)\n",
        "\n",
        "        plt.title(\"One-shot sample\")\n",
        "        plt.axis(\"off\")\n",
        "        plt.show()\n",
        "\n",
        "\n",
        "class SiameseDataset(BaseDataset):\n",
        "    _k, _l = None, None # balancing_numbers(len(labels))\n",
        "\n",
        "    def __init__(self):\n",
        "        BaseDataset.__init__(self)\n",
        "\n",
        "        self._positive = None # positive pairs in training set\n",
        "        self._negative = None # negative pairs in training set\n",
        "    \n",
        "    @property\n",
        "    def positive(self):\n",
        "        if self._positive is None:\n",
        "            raise AttributeError(\"Use sample_traintest or load_traintest first.\")\n",
        "        return self._positive\n",
        "\n",
        "    @property\n",
        "    def negative(self):\n",
        "        if self._negative is None:\n",
        "            raise AttributeError(\"Use sample_traintest or load_traintest first.\")\n",
        "        return self._negative\n",
        "\n",
        "    def sample_traintest(self, m=1, p=1 / 5, *, seed=131):\n",
        "        \"\"\" Fills the lists self.trainset and self.testset with tuples of form \n",
        "                            (image1, image2, same class?)\n",
        "            and returns them.\n",
        "            \n",
        "            Parameters:\n",
        "            - m: the number of pairs equals 180*m (90*m positive ones, 90*m \n",
        "                 negative ones; all digits are equally represented),\n",
        "            - p: the size of the test set (0.0-1.0). \"\"\"\n",
        "        random.seed(seed)\n",
        "\n",
        "        # same-class pairs\n",
        "        scp = []\n",
        "        for i in range(len(self.labels)):\n",
        "            images = random.sample(self.classes[i], 2 * m * self._k)\n",
        "            for j in range(0, len(images), 2):\n",
        "                label = torch.Tensor([1.0])\n",
        "                scp.append((images[j], images[j + 1], label))\n",
        "\n",
        "        # different-class pairs\n",
        "        dcp = []\n",
        "        for i in range(len(self.labels)):\n",
        "            for j in range(i):\n",
        "                images1 = random.sample(self.classes[i], m * self._l)\n",
        "                images2 = random.sample(self.classes[j], m * self._l)\n",
        "                labels = [torch.Tensor([0.0]) for _ in range(m * self._l)]\n",
        "                dcp.extend(zip(images1, images2, labels))\n",
        "\n",
        "        # balanced shuffle\n",
        "        random.shuffle(scp)\n",
        "        random.shuffle(dcp)\n",
        "        data = scp + dcp\n",
        "        l = len(data) // 2\n",
        "        for i in range(0, l, 2):\n",
        "            j = 2 * l - i - 1\n",
        "            data[i], data[j] = data[j], data[i]\n",
        "\n",
        "        if p is not None:\n",
        "            bp = round((1 - p) * len(data))\n",
        "            self._testset = data[bp:]\n",
        "            self._trainset = data[:bp]\n",
        "            self._positive = self._trainset[1::2]\n",
        "            self._negative = self._trainset[::2]\n",
        "        else:\n",
        "            self._trainset = data\n",
        "            self._positive = self._trainset[1::2]\n",
        "            self._negative = self._trainset[::2]\n",
        "            self._sample_testset(10, seed=seed)\n",
        "        \n",
        "    def _sample_testset(self, m, *, seed):\n",
        "        random.seed(seed)\n",
        "\n",
        "        # same-class pairs\n",
        "        data = []\n",
        "        for i in range(len(self.labels)):\n",
        "            images = random.sample(self.test_classes[i], 2 * m * self._k)\n",
        "            for j in range(0, len(images), 2):\n",
        "                label = torch.Tensor([1.0])\n",
        "                data.append((images[j], images[j + 1], label))\n",
        "\n",
        "        # different-class pairs\n",
        "        for i in range(len(self.labels)):\n",
        "            for j in range(i):\n",
        "                images1 = random.sample(self.test_classes[i], m * self._l)\n",
        "                images2 = random.sample(self.test_classes[j], m * self._l)\n",
        "                labels = [torch.Tensor([0.0]) for _ in range(m * self._l)]\n",
        "                data.extend(zip(images1, images2, labels))\n",
        "\n",
        "        self._testset = data\n",
        "\n",
        "    def sample_unlabeled(self, m=10, *, seed=131):\n",
        "        \"\"\" Fills the list self.unlabeled with tuples of form \n",
        "                            (image1, image2)\n",
        "            and returns it.\n",
        "            \n",
        "            Parameters:\n",
        "            - m: the number of unlabeled pairs is equal to 180 * m. \"\"\"\n",
        "        random.seed(seed)\n",
        "\n",
        "        data = []\n",
        "\n",
        "        # same-class pairs\n",
        "        for i in range(len(self.labels)):\n",
        "            images = random.sample(self.classes[i], 2 * m * self._k)\n",
        "            for j in range(0, len(images), 2):\n",
        "                data.append((images[j], images[j + 1]))\n",
        "\n",
        "        # different-class pairs\n",
        "        for i in range(len(self.labels)):\n",
        "            for j in range(i):\n",
        "                images1 = random.sample(self.classes[i], m * self._l)\n",
        "                images2 = random.sample(self.classes[j], m * self._l)\n",
        "                data.extend(zip(images1, images2))\n",
        "\n",
        "        random.shuffle(data)\n",
        "\n",
        "        self._unlabeled = data\n",
        "    \n",
        "    def show_trainset(self, n=5):\n",
        "        \"\"\" Shows n pairs of images from the train set and the corresponding labels. \"\"\"\n",
        "        for i in range(n):\n",
        "            show_pair(*self.trainset[i])\n",
        "\n",
        "    def show_testset(self, n=5):\n",
        "        \"\"\" Shows n pairs of images from the test set and the corresponding labels. \"\"\"\n",
        "        for i in range(n):\n",
        "            show_pair(*self.testset[i])\n",
        "\n",
        "    def show_unlabeled(self, n=5):\n",
        "        \"\"\" Shows n pairs of unlabeled images. \"\"\"\n",
        "        for i in range(n):\n",
        "            show_pair(*self.unlabeled[i])\n",
        "\n",
        "\n",
        "class SiameseMNIST(SiameseDataset):\n",
        "    labels = list(\"0123456789\")\n",
        "    _k, _l = 9, 2\n",
        "\n",
        "    prepare_data = classmethod(DataPreparation.prepare_MNIST)\n"
      ],
      "execution_count": 2,
      "outputs": []
    },
    {
      "cell_type": "markdown",
      "metadata": {
        "id": "4y-_Q_IIzmvF"
      },
      "source": [
        "## Load data and sample pairs"
      ]
    },
    {
      "cell_type": "code",
      "metadata": {
        "id": "E84jwukmzmvI",
        "colab": {
          "base_uri": "https://localhost:8080/",
          "height": 440,
          "referenced_widgets": [
            "3ada37363f3044ed9278fddd4d2d4b59",
            "c3d65dcd29464f98a271f7376c37f959",
            "17c917d817e44656873aff9d9a573bc2",
            "a85a758282e040e9ac0be78d03252d38",
            "fb581b124c9041e09da328f2392b4ac0",
            "860dddbd4cbe4da4ae9d51a2565fdb41",
            "7198507cc63948f8a0b0bb043927eae5",
            "635af68148d94e3ca11a30932310452b",
            "70db17e8eacf480290e5c037d747903e",
            "a1eb9bdd9b7b4433824179e120344f29",
            "a242735822324f09b5e9455dbe564277",
            "318669a394d74027ba1ec3cb860d8362",
            "cb6575e7169b4a01a00cac13f67a2bd5",
            "6d705565f967411e975cfc167054b894",
            "01663812b1064bf781570e7bf41120b0",
            "cd5621c5d48f4dcfa6045cf20ab3dc4c",
            "09e7c8193feb4c0c8437c92da3030b0c",
            "dfb7f249095d4731b27174bbedf941ca",
            "10d817b5b74140628f3953f13465106a",
            "812f1a83cad544d084e06b111df6dddc",
            "9ad39cdd3232460a9f280027a95a6b21",
            "8ca734b9fbb74228901bef76d3f26d85",
            "39c16045ad704576acaa1452824d2166",
            "3f16eedc71ea477ba17ed0abae3ce8a4",
            "5a9d081a4d9d43b097f14d2f3d9d2ecb",
            "e7cafb828465478ba343bb02b24a704a",
            "dd43e15a68e6422188064553de2d4ed4",
            "9262f296df444887914baeb9d6346be2",
            "98da4a8d1adf47cf96941e8851dd693a",
            "83a8791192224360b9685cf9893bbc7f",
            "9c6f418edd5e45dfb86371fe241ceff8",
            "d8babc2f92bd4c2e94833bd5ebba4f50"
          ]
        },
        "outputId": "7e8e2f93-79d1-45bc-9e0f-2412021af4ab"
      },
      "source": [
        "dataset = SiameseMNIST()"
      ],
      "execution_count": 3,
      "outputs": [
        {
          "output_type": "stream",
          "text": [
            "Downloading http://yann.lecun.com/exdb/mnist/train-images-idx3-ubyte.gz to data/downloaded/MNIST/raw/train-images-idx3-ubyte.gz\n"
          ],
          "name": "stdout"
        },
        {
          "output_type": "display_data",
          "data": {
            "application/vnd.jupyter.widget-view+json": {
              "model_id": "3ada37363f3044ed9278fddd4d2d4b59",
              "version_minor": 0,
              "version_major": 2
            },
            "text/plain": [
              "HBox(children=(FloatProgress(value=1.0, bar_style='info', max=1.0), HTML(value='')))"
            ]
          },
          "metadata": {
            "tags": []
          }
        },
        {
          "output_type": "stream",
          "text": [
            "Extracting data/downloaded/MNIST/raw/train-images-idx3-ubyte.gz to data/downloaded/MNIST/raw\n",
            "Downloading http://yann.lecun.com/exdb/mnist/train-labels-idx1-ubyte.gz to data/downloaded/MNIST/raw/train-labels-idx1-ubyte.gz\n",
            "\n"
          ],
          "name": "stdout"
        },
        {
          "output_type": "display_data",
          "data": {
            "application/vnd.jupyter.widget-view+json": {
              "model_id": "70db17e8eacf480290e5c037d747903e",
              "version_minor": 0,
              "version_major": 2
            },
            "text/plain": [
              "HBox(children=(FloatProgress(value=1.0, bar_style='info', max=1.0), HTML(value='')))"
            ]
          },
          "metadata": {
            "tags": []
          }
        },
        {
          "output_type": "stream",
          "text": [
            "Extracting data/downloaded/MNIST/raw/train-labels-idx1-ubyte.gz to data/downloaded/MNIST/raw\n",
            "Downloading http://yann.lecun.com/exdb/mnist/t10k-images-idx3-ubyte.gz to data/downloaded/MNIST/raw/t10k-images-idx3-ubyte.gz\n"
          ],
          "name": "stdout"
        },
        {
          "output_type": "display_data",
          "data": {
            "application/vnd.jupyter.widget-view+json": {
              "model_id": "09e7c8193feb4c0c8437c92da3030b0c",
              "version_minor": 0,
              "version_major": 2
            },
            "text/plain": [
              "HBox(children=(FloatProgress(value=1.0, bar_style='info', max=1.0), HTML(value='')))"
            ]
          },
          "metadata": {
            "tags": []
          }
        },
        {
          "output_type": "stream",
          "text": [
            "Extracting data/downloaded/MNIST/raw/t10k-images-idx3-ubyte.gz to data/downloaded/MNIST/raw\n",
            "Downloading http://yann.lecun.com/exdb/mnist/t10k-labels-idx1-ubyte.gz to data/downloaded/MNIST/raw/t10k-labels-idx1-ubyte.gz\n"
          ],
          "name": "stdout"
        },
        {
          "output_type": "display_data",
          "data": {
            "application/vnd.jupyter.widget-view+json": {
              "model_id": "5a9d081a4d9d43b097f14d2f3d9d2ecb",
              "version_minor": 0,
              "version_major": 2
            },
            "text/plain": [
              "HBox(children=(FloatProgress(value=1.0, bar_style='info', max=1.0), HTML(value='')))"
            ]
          },
          "metadata": {
            "tags": []
          }
        },
        {
          "output_type": "stream",
          "text": [
            "Extracting data/downloaded/MNIST/raw/t10k-labels-idx1-ubyte.gz to data/downloaded/MNIST/raw\n",
            "Processing...\n",
            "Done!\n"
          ],
          "name": "stdout"
        },
        {
          "output_type": "stream",
          "text": [
            "/usr/local/lib/python3.6/dist-packages/torchvision/datasets/mnist.py:480: UserWarning: The given NumPy array is not writeable, and PyTorch does not support non-writeable tensors. This means you can write to the underlying (supposedly non-writeable) NumPy array using the tensor. You may want to copy the array to protect its data or make it writeable before converting it to a tensor. This type of warning will be suppressed for the rest of this program. (Triggered internally at  /pytorch/torch/csrc/utils/tensor_numpy.cpp:141.)\n",
            "  return torch.from_numpy(parsed.astype(m[2], copy=False)).view(*s)\n"
          ],
          "name": "stderr"
        },
        {
          "output_type": "stream",
          "text": [
            "\n",
            "\n",
            "\n"
          ],
          "name": "stdout"
        }
      ]
    },
    {
      "cell_type": "code",
      "metadata": {
        "id": "Et8pnOuMzmvJ"
      },
      "source": [
        "dataset.sample_traintest(p=None)"
      ],
      "execution_count": 4,
      "outputs": []
    },
    {
      "cell_type": "code",
      "metadata": {
        "id": "w0vbNvvUFppZ"
      },
      "source": [
        "dataset.sample_unlabeled()"
      ],
      "execution_count": 5,
      "outputs": []
    },
    {
      "cell_type": "code",
      "metadata": {
        "colab": {
          "base_uri": "https://localhost:8080/"
        },
        "id": "J5jdj-1eAt7q",
        "outputId": "8bd8029f-0a91-459a-8565-eda6a2d3865a"
      },
      "source": [
        "print(*[len(dataset.trainset),\r\n",
        "        len(dataset.positive),\r\n",
        "        len(dataset.negative),\r\n",
        "        len(dataset.unlabeled),\r\n",
        "        len(dataset.testset)], sep=\"\\n\")"
      ],
      "execution_count": 6,
      "outputs": [
        {
          "output_type": "stream",
          "text": [
            "180\n",
            "90\n",
            "90\n",
            "1800\n",
            "1800\n"
          ],
          "name": "stdout"
        }
      ]
    },
    {
      "cell_type": "markdown",
      "metadata": {
        "id": "8oabtPcwzmvJ"
      },
      "source": [
        "## Show images"
      ]
    },
    {
      "cell_type": "code",
      "metadata": {
        "id": "p5V4WbHdzmvJ",
        "colab": {
          "base_uri": "https://localhost:8080/",
          "height": 225
        },
        "outputId": "fef99c42-2db7-4d04-8870-60456244d193"
      },
      "source": [
        "dataset.show_oneshot()"
      ],
      "execution_count": 7,
      "outputs": [
        {
          "output_type": "display_data",
          "data": {
            "image/png": "[encoded data removed]",
            "text/plain": [
              "<Figure size 576x1440 with 1 Axes>"
            ]
          },
          "metadata": {
            "tags": [],
            "needs_background": "light"
          }
        }
      ]
    },
    {
      "cell_type": "code",
      "metadata": {
        "id": "nuM9ko_NzmvJ",
        "colab": {
          "base_uri": "https://localhost:8080/",
          "height": 739
        },
        "outputId": "0ccdcf06-44c0-4990-eb99-ec193f526653"
      },
      "source": [
        "print(\"Training set\")\n",
        "dataset.show_trainset()"
      ],
      "execution_count": 8,
      "outputs": [
        {
          "output_type": "stream",
          "text": [
            "Training set\n"
          ],
          "name": "stdout"
        },
        {
          "output_type": "display_data",
          "data": {
            "image/png": "[encoded data removed]",
            "text/plain": [
              "<Figure size 288x576 with 1 Axes>"
            ]
          },
          "metadata": {
            "tags": [],
            "needs_background": "light"
          }
        },
        {
          "output_type": "display_data",
          "data": {
            "image/png": "[encoded data removed]",
            "text/plain": [
              "<Figure size 288x576 with 1 Axes>"
            ]
          },
          "metadata": {
            "tags": [],
            "needs_background": "light"
          }
        },
        {
          "output_type": "display_data",
          "data": {
            "image/png": "[encoded data removed]",
            "text/plain": [
              "<Figure size 288x576 with 1 Axes>"
            ]
          },
          "metadata": {
            "tags": [],
            "needs_background": "light"
          }
        },
        {
          "output_type": "display_data",
          "data": {
            "image/png": "[encoded data removed]",
            "text/plain": [
              "<Figure size 288x576 with 1 Axes>"
            ]
          },
          "metadata": {
            "tags": [],
            "needs_background": "light"
          }
        },
        {
          "output_type": "display_data",
          "data": {
            "image/png": "[encoded data removed]",
            "text/plain": [
              "<Figure size 288x576 with 1 Axes>"
            ]
          },
          "metadata": {
            "tags": [],
            "needs_background": "light"
          }
        }
      ]
    },
    {
      "cell_type": "code",
      "metadata": {
        "id": "3kF87gkuzmvJ",
        "colab": {
          "base_uri": "https://localhost:8080/",
          "height": 739
        },
        "outputId": "94492618-9558-4c88-811b-3b4351d07cd9"
      },
      "source": [
        "print(\"Test set\")\n",
        "dataset.show_testset()"
      ],
      "execution_count": 9,
      "outputs": [
        {
          "output_type": "stream",
          "text": [
            "Test set\n"
          ],
          "name": "stdout"
        },
        {
          "output_type": "display_data",
          "data": {
            "image/png": "[encoded data removed]",
            "text/plain": [
              "<Figure size 288x576 with 1 Axes>"
            ]
          },
          "metadata": {
            "tags": [],
            "needs_background": "light"
          }
        },
        {
          "output_type": "display_data",
          "data": {
            "image/png": "[encoded data removed]",
            "text/plain": [
              "<Figure size 288x576 with 1 Axes>"
            ]
          },
          "metadata": {
            "tags": [],
            "needs_background": "light"
          }
        },
        {
          "output_type": "display_data",
          "data": {
            "image/png": "[encoded data removed]",
            "text/plain": [
              "<Figure size 288x576 with 1 Axes>"
            ]
          },
          "metadata": {
            "tags": [],
            "needs_background": "light"
          }
        },
        {
          "output_type": "display_data",
          "data": {
            "image/png": "[encoded data removed]",
            "text/plain": [
              "<Figure size 288x576 with 1 Axes>"
            ]
          },
          "metadata": {
            "tags": [],
            "needs_background": "light"
          }
        },
        {
          "output_type": "display_data",
          "data": {
            "image/png": "[encoded data removed]",
            "text/plain": [
              "<Figure size 288x576 with 1 Axes>"
            ]
          },
          "metadata": {
            "tags": [],
            "needs_background": "light"
          }
        }
      ]
    },
    {
      "cell_type": "code",
      "metadata": {
        "id": "LwajOGnSzmvK",
        "colab": {
          "base_uri": "https://localhost:8080/",
          "height": 739
        },
        "outputId": "ee9a5358-21bc-4d2a-bca8-c61a4e70a70b"
      },
      "source": [
        "print(\"Unlabeled\")\n",
        "dataset.show_unlabeled()"
      ],
      "execution_count": 10,
      "outputs": [
        {
          "output_type": "stream",
          "text": [
            "Unlabeled\n"
          ],
          "name": "stdout"
        },
        {
          "output_type": "display_data",
          "data": {
            "image/png": "[encoded data removed]",
            "text/plain": [
              "<Figure size 288x576 with 1 Axes>"
            ]
          },
          "metadata": {
            "tags": [],
            "needs_background": "light"
          }
        },
        {
          "output_type": "display_data",
          "data": {
            "image/png": "[encoded data removed]",
            "text/plain": [
              "<Figure size 288x576 with 1 Axes>"
            ]
          },
          "metadata": {
            "tags": [],
            "needs_background": "light"
          }
        },
        {
          "output_type": "display_data",
          "data": {
            "image/png": "[encoded data removed]",
            "text/plain": [
              "<Figure size 288x576 with 1 Axes>"
            ]
          },
          "metadata": {
            "tags": [],
            "needs_background": "light"
          }
        },
        {
          "output_type": "display_data",
          "data": {
            "image/png": "[encoded data removed]",
            "text/plain": [
              "<Figure size 288x576 with 1 Axes>"
            ]
          },
          "metadata": {
            "tags": [],
            "needs_background": "light"
          }
        },
        {
          "output_type": "display_data",
          "data": {
            "image/png": "[encoded data removed]",
            "text/plain": [
              "<Figure size 288x576 with 1 Axes>"
            ]
          },
          "metadata": {
            "tags": [],
            "needs_background": "light"
          }
        }
      ]
    },
    {
      "cell_type": "markdown",
      "metadata": {
        "id": "RTv76chazmvK"
      },
      "source": [
        "# 2. Model"
      ]
    },
    {
      "cell_type": "markdown",
      "metadata": {
        "id": "u5fF8uz1zmvK"
      },
      "source": [
        "## Nets"
      ]
    },
    {
      "cell_type": "code",
      "metadata": {
        "id": "aRE4F25rzmvK"
      },
      "source": [
        "class DiscriminativeSNN(nn.Module):\n",
        "    def __init__(self):\n",
        "        nn.Module.__init__(self)\n",
        "\n",
        "        # convolutional layers\n",
        "        # input: 1 @ 28x28\n",
        "        self.cnn = nn.Sequential(\n",
        "            nn.Conv2d(1, 8, kernel_size=3, stride=1, padding=1),  # 8 @ 28x28\n",
        "            nn.ReLU(),\n",
        "\n",
        "            nn.MaxPool2d(kernel_size=2),  # 8 @ 14x14\n",
        "            nn.Dropout2d(p=0.5),\n",
        "\n",
        "            nn.Conv2d(8, 8, kernel_size=5, stride=1, padding=2),  # 8 @ 14x14\n",
        "            nn.ReLU(),\n",
        "\n",
        "            nn.MaxPool2d(kernel_size=2),  # 8 @ 7x7\n",
        "            nn.Dropout2d(p=0.5),\n",
        "        )\n",
        "\n",
        "        self.flatten = nn.Flatten()\n",
        "\n",
        "        # dense layers\n",
        "        # input: 392\n",
        "        self.dnn = nn.Sequential(\n",
        "            nn.Linear(392, 128),\n",
        "            nn.ReLU(),\n",
        "        )\n",
        "\n",
        "        # output: 128\n",
        "\n",
        "    def _forward(self, x):\n",
        "        # forward pass of one element of a pair\n",
        "        return self.dnn(self.flatten(self.cnn(x)))\n",
        "\n",
        "    def forward(self, input1, input2):\n",
        "        output1 = self._forward(input1)\n",
        "        output2 = self._forward(input2)\n",
        "        return output1, output2\n",
        "\n",
        "\n",
        "class GenerativeSNN(nn.Module):\n",
        "    def __init__(self):\n",
        "        nn.Module.__init__(self)\n",
        "\n",
        "        # dense layers\n",
        "        # input: 128\n",
        "        self.dnn = nn.Sequential(\n",
        "            nn.Linear(128, 392),\n",
        "            nn.ReLU(),\n",
        "        )\n",
        "\n",
        "        # convolutional layers\n",
        "        # input: 8 @ 7x7\n",
        "        self.cnn = nn.Sequential(\n",
        "            nn.Upsample(scale_factor=2),  # 8 @ 14x14\n",
        "\n",
        "            nn.ConvTranspose2d(8, 8, kernel_size=5, stride=1, padding=2),  # 8 @ 14x14\n",
        "            nn.ReLU(),\n",
        "\n",
        "            nn.Dropout2d(p=0.5),\n",
        "            nn.Upsample(scale_factor=2),  # 8 @ 28x28\n",
        "\n",
        "            nn.ConvTranspose2d(8, 1, kernel_size=3, stride=1, padding=1),  # 1 @ 28x28\n",
        "            nn.Sigmoid(),\n",
        "            \n",
        "            nn.Dropout2d(p=0.5),\n",
        "        )\n",
        "\n",
        "        # output: 1 @ 28x28\n",
        "\n",
        "    def _forward(self, x):\n",
        "        # forward pass of one element of a pair\n",
        "        output = self.dnn(x)\n",
        "        output = output.view(output.shape[0], 8, 7, 7)\n",
        "        output = self.cnn(output)\n",
        "        return output\n",
        "\n",
        "    def forward(self, input1, input2):\n",
        "        output1 = self._forward(input1)\n",
        "        output2 = self._forward(input2)\n",
        "        return output1, output2"
      ],
      "execution_count": 11,
      "outputs": []
    },
    {
      "cell_type": "markdown",
      "metadata": {
        "id": "XHWrx5DrzmvL"
      },
      "source": [
        "## Loss functions"
      ]
    },
    {
      "cell_type": "code",
      "metadata": {
        "id": "xH3su7ZozmvL"
      },
      "source": [
        "class ModifiedCrossEntropy(nn.Module):\n",
        "    def forward(self, outputs1, outputs2, labels):\n",
        "        distances = F.pairwise_distance(outputs1, outputs2)\n",
        "        predictions = 1 - distances.tanh()\n",
        "        return F.binary_cross_entropy(predictions, labels.squeeze(), reduction=\"sum\")\n",
        "\n",
        "\n",
        "class ReconstructionLoss(nn.Module):\n",
        "    def forward(self, input, output):\n",
        "        input = input.flatten(start_dim=1)\n",
        "        output = output.flatten(start_dim=1)\n",
        "        distances = F.pairwise_distance(input, output)\n",
        "        return distances.sum()"
      ],
      "execution_count": 12,
      "outputs": []
    },
    {
      "cell_type": "markdown",
      "metadata": {
        "id": "XlTYyrrvzmvL"
      },
      "source": [
        "# 3. Training and diagnostics"
      ]
    },
    {
      "cell_type": "markdown",
      "metadata": {
        "id": "IXN8IY1dzmvL"
      },
      "source": [
        "## Model hiperparameters"
      ]
    },
    {
      "cell_type": "code",
      "metadata": {
        "id": "CRT7WG0RzmvL"
      },
      "source": [
        "alpha = 0.05  # importance of the reconstruction loss\n",
        "beta = 5.0  # l2 regularization\n",
        "T = 0.5  # threshold\n",
        "use_unlabeled = False"
      ],
      "execution_count": 13,
      "outputs": []
    },
    {
      "cell_type": "markdown",
      "metadata": {
        "id": "6YteF6V2zmvM"
      },
      "source": [
        "## Optimization parameters"
      ]
    },
    {
      "cell_type": "code",
      "metadata": {
        "id": "xPR8W7WAzmvM"
      },
      "source": [
        "batch_size = 60\n",
        "E = 150  # epochs\n",
        "lr = 0.001  # learning rate"
      ],
      "execution_count": 14,
      "outputs": []
    },
    {
      "cell_type": "markdown",
      "metadata": {
        "id": "7b1onxhDzmvM"
      },
      "source": [
        "## Data initialization"
      ]
    },
    {
      "cell_type": "code",
      "metadata": {
        "id": "qwaLSrDWzmvM"
      },
      "source": [
        "positive = torch.utils.data.DataLoader(dataset.positive, batch_size=batch_size // 2, shuffle=True)\n",
        "negative = torch.utils.data.DataLoader(dataset.negative, batch_size=batch_size // 2, shuffle=True)\n",
        "if use_unlabeled:\n",
        "    unlabeled = torch.utils.data.DataLoader(dataset.unlabeled, batch_size=batch_size, shuffle=True)\n",
        "else:\n",
        "    unlabeled = [None for _ in range(len(dataset.trainset) // batch_size)]\n",
        "\n",
        "testset = torch.utils.data.DataLoader(dataset.testset, batch_size=len(dataset.testset))"
      ],
      "execution_count": 15,
      "outputs": []
    },
    {
      "cell_type": "markdown",
      "metadata": {
        "id": "2XbWMm_xzmvN"
      },
      "source": [
        "## Training"
      ]
    },
    {
      "cell_type": "code",
      "metadata": {
        "id": "uwGSjAbOzmvN",
        "colab": {
          "base_uri": "https://localhost:8080/",
          "height": 603,
          "referenced_widgets": [
            "50f20e79b1ee4fe4937ea34862e6b4bc",
            "274031e020c4404ba584824887255f3d",
            "bcf0d710e9194b6ab535319fa2f3741f",
            "1854e9c8bf5b4850a84d8f0cad11d790",
            "0d3f62bfa5ba4034878ec8905ca5abf8",
            "9506da068b73477eb633894b01b6ba3a",
            "d23054775f0e42709e6d7a7d7b09cd7b",
            "ed75c1eb36c04df4bb3503ce83011f6f"
          ]
        },
        "outputId": "95e499e4-fef8-4167-c389-8ec83da6c32b"
      },
      "source": [
        "net1, net2 = DiscriminativeSNN().to(device), GenerativeSNN().to(device)\n",
        "criterion1, criterion2 = ModifiedCrossEntropy(), ReconstructionLoss()\n",
        "parameters = [{\"params\": net1.parameters()}, {\"params\": net2.parameters()}]\n",
        "optimizer = torch.optim.RMSprop(parameters, lr=lr, weight_decay=beta)\n",
        "\n",
        "train_log = {\n",
        "    \"discriminative_loss\": [],  # discriminative part of loss\n",
        "    \"generative_loss\": [],  # generative part of loss\n",
        "    \"total_loss\": [],  # total loss\n",
        "    \"accuracy\": [],  # accuracy\n",
        "    \"pos_dists\": [],  # predicted distances between positive pairs\n",
        "    \"neg_dists\": [],  # predicted distances between negative pairs\n",
        "}\n",
        "\n",
        "test_log = {\n",
        "    \"discriminative_loss\": [],\n",
        "    \"generative_loss\": [],\n",
        "    \"total_loss\": [],\n",
        "    \"accuracy\": [],\n",
        "    \"pos_dists\": [],\n",
        "    \"neg_dists\": [],\n",
        "}\n",
        "\n",
        "# training\n",
        "for i in tqdm(range(E)):\n",
        "    # initialize logs\n",
        "    train_log[\"discriminative_loss\"].append(0.0)\n",
        "    train_log[\"generative_loss\"].append(0.0)\n",
        "    train_log[\"total_loss\"].append(0.0)\n",
        "    train_log[\"accuracy\"].append([0, 0])\n",
        "    train_log[\"pos_dists\"].append([])\n",
        "    train_log[\"neg_dists\"].append([])\n",
        "\n",
        "    # actual training\n",
        "    for pos, neg, unlab in zip(it.cycle(positive), it.cycle(negative), unlabeled):\n",
        "        optimizer.zero_grad()\n",
        "\n",
        "        ## labeled data\n",
        "        imgs1, imgs2, labs = pos\n",
        "        imgs1_, imgs2_, labs_ = neg\n",
        "        images1 = torch.cat([imgs1, imgs1_], dim=0).to(device)\n",
        "        images2 = torch.cat([imgs2, imgs2_], dim=0).to(device)\n",
        "        labels = torch.cat([labs, labs_], dim=0).to(device)\n",
        "\n",
        "        # first net\n",
        "        outputs1, outputs2 = net1(images1, images2)\n",
        "        loss1 = criterion1(outputs1, outputs2, labels)\n",
        "\n",
        "        # second net\n",
        "        images1_, images2_ = net2(outputs1, outputs2)\n",
        "        loss2 = criterion2(images1, images1_) + criterion2(images2, images2_)\n",
        "\n",
        "        # final loss\n",
        "        loss = loss1 + alpha * loss2\n",
        "\n",
        "        # for plots\n",
        "        train_log[\"discriminative_loss\"][-1] += loss1.item()\n",
        "        train_log[\"generative_loss\"][-1] += alpha * loss2.item()\n",
        "\n",
        "        # evaluation on training set\n",
        "        net1.eval()\n",
        "        with torch.no_grad():\n",
        "            outputs1, outputs2 = net1(images1, images2)\n",
        "            dists = F.pairwise_distance(outputs1, outputs2).tanh()\n",
        "            preds = (dists <= T).float()\n",
        "            train_log[\"accuracy\"][-1][0] += len(preds)\n",
        "            train_log[\"accuracy\"][-1][1] += (\n",
        "                torch.isclose(labels.squeeze(), preds).sum().item()\n",
        "            )\n",
        "\n",
        "            for label, dist in zip(labels, dists):\n",
        "                if label.item() > 0.5:\n",
        "                    train_log[\"pos_dists\"][-1].append(dist.item())\n",
        "                else:\n",
        "                    train_log[\"neg_dists\"][-1].append(dist.item())\n",
        "        net1.train()\n",
        "\n",
        "        if use_unlabeled: ## unlabeled data\n",
        "            images1, images2 = (t.to(device) for t in unlab)\n",
        "\n",
        "            # first net\n",
        "            outputs1, outputs2 = net1(images1, images2)\n",
        "\n",
        "            # second net\n",
        "            images1_, images2_ = net2(outputs1, outputs2)\n",
        "            loss2 = criterion2(images1, images1_) + criterion2(images2, images2_)\n",
        "\n",
        "            # total loss\n",
        "            loss += alpha * loss2\n",
        "\n",
        "            # for plots\n",
        "            train_log[\"generative_loss\"][-1] += alpha * loss2.item()\n",
        "\n",
        "        ## for plots\n",
        "        train_log[\"total_loss\"][-1] += loss.item()\n",
        "\n",
        "        ## step\n",
        "        loss.backward()\n",
        "        optimizer.step()\n",
        "\n",
        "    # for plots\n",
        "    train_log[\"accuracy\"][-1] = (\n",
        "        100 * train_log[\"accuracy\"][-1][1] / train_log[\"accuracy\"][-1][0]\n",
        "    )\n",
        "\n",
        "    test_log[\"discriminative_loss\"].append(0.0)\n",
        "    test_log[\"generative_loss\"].append(0.0)\n",
        "    test_log[\"total_loss\"].append(0.0)\n",
        "    test_log[\"accuracy\"].append(0.0)\n",
        "    test_log[\"pos_dists\"].append([])\n",
        "    test_log[\"neg_dists\"].append([])\n",
        "\n",
        "    # evaluation on test set\n",
        "    net1.eval()\n",
        "    net2.eval()\n",
        "    with torch.no_grad():\n",
        "        for tensors in testset:\n",
        "            images1, images2, labels = (t.to(device) for t in tensors)\n",
        "            outputs1, outputs2 = net1(images1, images2)\n",
        "            images1_, images2_ = net2(outputs1, outputs2)\n",
        "\n",
        "            loss1 = criterion1(outputs1, outputs2, labels)\n",
        "            loss2 = criterion2(images1, images1_) + criterion2(images2, images2_)\n",
        "            loss = loss1 + alpha * loss2\n",
        "\n",
        "            test_log[\"discriminative_loss\"][-1] += loss1.item()\n",
        "            test_log[\"generative_loss\"][-1] += alpha * loss2.item()\n",
        "            test_log[\"total_loss\"][-1] += loss.item()\n",
        "\n",
        "            dists = F.pairwise_distance(outputs1, outputs2).tanh()\n",
        "            preds = (dists <= T).float()\n",
        "\n",
        "            test_log[\"accuracy\"][-1] += (\n",
        "                torch.isclose(labels.squeeze(), preds).sum().item()\n",
        "            )\n",
        "\n",
        "            for label, dist in zip(labels, dists):\n",
        "                if label.item() > 0.5:\n",
        "                    test_log[\"pos_dists\"][-1].append(dist.item())\n",
        "                else:\n",
        "                    test_log[\"neg_dists\"][-1].append(dist.item())\n",
        "    test_log[\"accuracy\"][-1] /= len(dataset.testset) / 100\n",
        "    net1.train()\n",
        "    net2.train()\n",
        "  \n",
        "\n",
        "start = 0  # the first epoch to be taken into consideration\n",
        "domain = range(start + 1, E + 1)\n",
        "ticks = [start + 1] + list(range(start + max((E - start) // 5, 1), E + 1, max((E - start) // 5, 1))) \n",
        "\n",
        "fig, axs = plt.subplots(2, 2, figsize=(9, 8), sharex=True)\n",
        "fig.suptitle(\"Evaluation on test set\", y=0.95, fontsize=\"x-large\")\n",
        "\n",
        "axs[0, 0].plot(domain, test_log[\"generative_loss\"][start:])\n",
        "axs[0, 0].set(title=\"Generative loss\", xticks=ticks)\n",
        "axs[0, 0].grid()\n",
        "\n",
        "axs[0, 1].plot(domain, test_log[\"discriminative_loss\"][start:])\n",
        "axs[0, 1].set(title=\"Discriminative loss\", xticks=ticks)\n",
        "axs[0, 1].grid()\n",
        "\n",
        "axs[1, 0].plot(domain, test_log[\"total_loss\"][start:])\n",
        "axs[1, 0].set(xlabel=\"Epoch\", title=\"Total loss\", xticks=ticks)\n",
        "axs[1, 0].grid()\n",
        "\n",
        "axs[1, 1].plot(domain, test_log[\"accuracy\"][start:])\n",
        "axs[1, 1].set(xlabel=\"Epoch\", title=\"Accuracy\", xticks=ticks)\n",
        "axs[1, 1].grid()\n",
        "\n",
        "plt.show()\n",
        "\n",
        "best_epoch = np.argmax(test_log['accuracy'])\n",
        "print(f\"Maximal accuracy: {np.max(test_log['accuracy']):.2f}% (epoch {best_epoch + 1}).\")"
      ],
      "execution_count": 24,
      "outputs": [
        {
          "output_type": "display_data",
          "data": {
            "application/vnd.jupyter.widget-view+json": {
              "model_id": "50f20e79b1ee4fe4937ea34862e6b4bc",
              "version_minor": 0,
              "version_major": 2
            },
            "text/plain": [
              "HBox(children=(FloatProgress(value=0.0, max=150.0), HTML(value='')))"
            ]
          },
          "metadata": {
            "tags": []
          }
        },
        {
          "output_type": "stream",
          "text": [
            "\n"
          ],
          "name": "stdout"
        },
        {
          "output_type": "display_data",
          "data": {
            "image/png": "[encoded data removed]",
            "text/plain": [
              "<Figure size 648x576 with 4 Axes>"
            ]
          },
          "metadata": {
            "tags": [],
            "needs_background": "light"
          }
        },
        {
          "output_type": "stream",
          "text": [
            "Maximal accuracy: 73.50% (epoch 102).\n"
          ],
          "name": "stdout"
        }
      ]
    },
    {
      "cell_type": "markdown",
      "metadata": {
        "id": "NWJYOqnXzmvN"
      },
      "source": [
        "# 4. Diagnostics"
      ]
    },
    {
      "cell_type": "markdown",
      "metadata": {
        "id": "PmWFcDaHzmvN"
      },
      "source": [
        "## Settings"
      ]
    },
    {
      "cell_type": "code",
      "metadata": {
        "id": "ZL4y_5YUzmvN"
      },
      "source": [
        "start = 0  # the first epoch to be taken into consideration\n",
        "domain = range(start + 1, E + 1)\n",
        "ticks = [start + 1] + list(range(start + (E - start) // 5, E + 1, (E - start) // 5)) "
      ],
      "execution_count": 25,
      "outputs": []
    },
    {
      "cell_type": "code",
      "metadata": {
        "id": "vjsYrYPszmvN"
      },
      "source": [
        "train_pos_dists = np.array(train_log[\"pos_dists\"][start:])\n",
        "train_neg_dists = np.array(train_log[\"neg_dists\"][start:])\n",
        "test_pos_dists = np.array(test_log[\"pos_dists\"][start:])\n",
        "test_neg_dists = np.array(test_log[\"neg_dists\"][start:])"
      ],
      "execution_count": 26,
      "outputs": []
    },
    {
      "cell_type": "markdown",
      "metadata": {
        "id": "bSlT0AdBzmvO"
      },
      "source": [
        "## Plots"
      ]
    },
    {
      "cell_type": "markdown",
      "metadata": {
        "id": "hxuUV46TzmvO"
      },
      "source": [
        "### The process of training - training set"
      ]
    },
    {
      "cell_type": "code",
      "metadata": {
        "colab": {
          "base_uri": "https://localhost:8080/",
          "height": 537
        },
        "id": "U0px_bFbzmvO",
        "outputId": "873a0fd3-2c12-4838-9986-54ecd8edd16f"
      },
      "source": [
        "fig, axs = plt.subplots(2, 2, figsize=(9, 8), sharex=True)\n",
        "fig.suptitle(\"Evaluation on training set\", y=0.95, fontsize=\"x-large\")\n",
        "\n",
        "axs[0, 0].plot(domain, train_log[\"generative_loss\"][start:])\n",
        "axs[0, 0].set(title=\"Generative loss\", xticks=ticks)\n",
        "axs[0, 0].grid()\n",
        "\n",
        "axs[0, 1].plot(domain, train_log[\"discriminative_loss\"][start:])\n",
        "axs[0, 1].set(title=\"Discriminative loss\", xticks=ticks)\n",
        "axs[0, 1].grid()\n",
        "\n",
        "axs[1, 0].plot(domain, train_log[\"total_loss\"][start:])\n",
        "axs[1, 0].set(xlabel=\"Epoch\", title=\"Total loss\", xticks=ticks)\n",
        "axs[1, 0].grid()\n",
        "\n",
        "axs[1, 1].plot(domain, train_log[\"accuracy\"][start:])\n",
        "axs[1, 1].set(xlabel=\"Epoch\", title=\"Accuracy\", xticks=ticks)\n",
        "axs[1, 1].grid()\n",
        "\n",
        "plt.show()"
      ],
      "execution_count": 27,
      "outputs": [
        {
          "output_type": "display_data",
          "data": {
            "image/png": "[encoded data removed]",
            "text/plain": [
              "<Figure size 648x576 with 4 Axes>"
            ]
          },
          "metadata": {
            "tags": [],
            "needs_background": "light"
          }
        }
      ]
    },
    {
      "cell_type": "markdown",
      "metadata": {
        "id": "tTy1IjyhzmvO"
      },
      "source": [
        "### The process of training - test set"
      ]
    },
    {
      "cell_type": "code",
      "metadata": {
        "colab": {
          "base_uri": "https://localhost:8080/",
          "height": 554
        },
        "id": "9uxJOz3vzmvO",
        "outputId": "491ddcff-a24d-40fa-84b7-02fc4e3da546"
      },
      "source": [
        "fig, axs = plt.subplots(2, 2, figsize=(9, 8), sharex=True)\n",
        "fig.suptitle(\"Evaluation on test set\", y=0.95, fontsize=\"x-large\")\n",
        "\n",
        "axs[0, 0].plot(domain, test_log[\"generative_loss\"][start:])\n",
        "axs[0, 0].set(title=\"Generative loss\", xticks=ticks)\n",
        "axs[0, 0].grid()\n",
        "\n",
        "axs[0, 1].plot(domain, test_log[\"discriminative_loss\"][start:])\n",
        "axs[0, 1].set(title=\"Discriminative loss\", xticks=ticks)\n",
        "axs[0, 1].grid()\n",
        "\n",
        "axs[1, 0].plot(domain, test_log[\"total_loss\"][start:])\n",
        "axs[1, 0].set(xlabel=\"Epoch\", title=\"Total loss\", xticks=ticks)\n",
        "axs[1, 0].grid()\n",
        "\n",
        "axs[1, 1].plot(domain, test_log[\"accuracy\"][start:])\n",
        "axs[1, 1].set(xlabel=\"Epoch\", title=\"Accuracy\", xticks=ticks)\n",
        "axs[1, 1].grid()\n",
        "\n",
        "plt.show()\n",
        "\n",
        "best_epoch = np.argmax(test_log['accuracy'])\n",
        "print(f\"Maximal accuracy: {np.max(test_log['accuracy']):.2f}% (epoch {best_epoch + 1}).\")"
      ],
      "execution_count": 28,
      "outputs": [
        {
          "output_type": "display_data",
          "data": {
            "image/png": "[encoded data removed]",
            "text/plain": [
              "<Figure size 648x576 with 4 Axes>"
            ]
          },
          "metadata": {
            "tags": [],
            "needs_background": "light"
          }
        },
        {
          "output_type": "stream",
          "text": [
            "Maximal accuracy: 73.50% (epoch 102).\n"
          ],
          "name": "stdout"
        }
      ]
    },
    {
      "cell_type": "markdown",
      "metadata": {
        "id": "eB7SQ6UczmvO"
      },
      "source": [
        "### Separation of classes during training"
      ]
    },
    {
      "cell_type": "code",
      "metadata": {
        "colab": {
          "base_uri": "https://localhost:8080/",
          "height": 288
        },
        "id": "mJ-w5OtjzmvO",
        "outputId": "731cc124-89e1-401f-8379-a84d9d10065a"
      },
      "source": [
        "fig, axs = plt.subplots(1, 2, figsize=(8, 4), sharey=True)\n",
        "fig.suptitle(\"Separation of classes\", fontsize=\"x-large\")\n",
        "\n",
        "axs[0].set(title=\"Training set\", xlabel=\"Epoch\", ylabel=\"Distances\", xticks=ticks)\n",
        "axs[0].grid()\n",
        "\n",
        "q25, q50, q75 = np.percentile(train_neg_dists, [25, 50, 75], axis=1)\n",
        "axs[0].plot(domain, q50)\n",
        "axs[0].fill_between(domain, q75, q25, alpha=0.5, label=\"neg\")\n",
        "\n",
        "q25, q50, q75 = np.percentile(train_pos_dists, [25, 50, 75], axis=1)\n",
        "axs[0].plot(domain, q50)\n",
        "axs[0].fill_between(domain, q75, q25, alpha=0.5, label=\"pos\")\n",
        "\n",
        "axs[0].hlines(T, start + 1, E, label=\"$\\\\tau$\", linestyles=\"--\")\n",
        "\n",
        "axs[1].set(title=\"Test set\", xlabel=\"Epoch\", xticks=ticks)\n",
        "axs[1].grid()\n",
        "\n",
        "q25, q50, q75 = np.percentile(test_neg_dists, [25, 50, 75], axis=1)\n",
        "axs[1].plot(domain, q50)\n",
        "axs[1].fill_between(domain, q75, q25, alpha=0.5)\n",
        "\n",
        "q25, q50, q75 = np.percentile(test_pos_dists, [25, 50, 75], axis=1)\n",
        "axs[1].plot(domain, q50)\n",
        "axs[1].fill_between(domain, q75, q25, alpha=0.5)\n",
        "\n",
        "axs[1].hlines(T, start + 1, E, linestyles=\"--\")\n",
        "\n",
        "fig.tight_layout(pad=2.5)\n",
        "fig.legend(loc=(0.482, 0.25))\n",
        "\n",
        "plt.show()"
      ],
      "execution_count": 29,
      "outputs": [
        {
          "output_type": "display_data",
          "data": {
            "image/png": "[encoded data removed]",
            "text/plain": [
              "<Figure size 576x288 with 2 Axes>"
            ]
          },
          "metadata": {
            "tags": [],
            "needs_background": "light"
          }
        }
      ]
    },
    {
      "cell_type": "markdown",
      "metadata": {
        "id": "rKCfjcu3zmvO"
      },
      "source": [
        "### Summary"
      ]
    },
    {
      "cell_type": "code",
      "metadata": {
        "colab": {
          "base_uri": "https://localhost:8080/",
          "height": 295
        },
        "id": "z_fz09jlzmvP",
        "outputId": "2e6b97ce-b1b7-4e87-e666-18ce24478604"
      },
      "source": [
        "plt.title(\"Final separation of classes\")\n",
        "sns.kdeplot(test_log[\"neg_dists\"][-1], fill=True, label=\"neg\")\n",
        "sns.kdeplot(test_log[\"pos_dists\"][-1], fill=True, label=\"pos\")\n",
        "plt.vlines(T, 0, plt.gca().get_ylim()[1], linestyles=\"--\", label=\"$\\\\tau$\")\n",
        "plt.text(\n",
        "    0.01,\n",
        "    0.94,\n",
        "    f\"Accuracy: {test_log['accuracy'][-1]:.2f}%\",\n",
        "    transform=plt.gca().transAxes,\n",
        ")\n",
        "plt.xlabel(\"Distance\")\n",
        "plt.legend()\n",
        "plt.show()"
      ],
      "execution_count": 30,
      "outputs": [
        {
          "output_type": "display_data",
          "data": {
            "image/png": "[encoded data removed]",
            "text/plain": [
              "<Figure size 432x288 with 1 Axes>"
            ]
          },
          "metadata": {
            "tags": [],
            "needs_background": "light"
          }
        }
      ]
    },
    {
      "cell_type": "code",
      "metadata": {
        "colab": {
          "base_uri": "https://localhost:8080/",
          "height": 295
        },
        "id": "nZkx2A_x6xpO",
        "outputId": "f6292738-adb9-4aab-e400-32cd4880b0af"
      },
      "source": [
        "plt.title(\"Best separation of classes\")\r\n",
        "sns.kdeplot(test_log[\"neg_dists\"][best_epoch], fill=True, label=\"neg\")\r\n",
        "sns.kdeplot(test_log[\"pos_dists\"][best_epoch], fill=True, label=\"pos\")\r\n",
        "plt.vlines(T, 0, plt.gca().get_ylim()[1], linestyles=\"--\", label=\"$\\\\tau$\")\r\n",
        "plt.text(\r\n",
        "    0.01,\r\n",
        "    0.94,\r\n",
        "    f\"Accuracy: {test_log['accuracy'][best_epoch]:.2f}%\",\r\n",
        "    transform=plt.gca().transAxes,\r\n",
        ")\r\n",
        "plt.xlabel(\"Distance\")\r\n",
        "plt.legend()\r\n",
        "plt.show()"
      ],
      "execution_count": 31,
      "outputs": [
        {
          "output_type": "display_data",
          "data": {
            "image/png": "[encoded data removed]",
            "text/plain": [
              "<Figure size 432x288 with 1 Axes>"
            ]
          },
          "metadata": {
            "tags": [],
            "needs_background": "light"
          }
        }
      ]
    }
  ]
}